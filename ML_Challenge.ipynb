{
 "cells": [
  {
   "cell_type": "markdown",
   "metadata": {},
   "source": [
    "# ML Challenge"
   ]
  },
  {
   "cell_type": "markdown",
   "metadata": {},
   "source": [
    "This is a challenge to test your understanding of how you will approach a  Machine Learning problem, come up with a Model and answer the questions. \n",
    "\n",
    "The data set provided to you is a data set of passengers who travelled in an aircraft. The aircraft met with an accident and few of the passengers survived the crash.\n",
    "Data set is present in: aircrash.csv\n",
    "\n",
    "Now, here is what you need to do:\n",
    "1.) Count the number of passengers in the Aircraft based on Age, Gender, Class. \n",
    "2.) Find the number of children in the Aircraft.\n",
    "Note: Children are aged less than 16 years.\n",
    "3.) Find the number of children in the various classes.\n",
    "Bonus: Can you plot the above results ?\n",
    "4.) Replace all NULL and NAN values in the dataset programatically.\n",
    "5.) Find the number of passengers who were alone and who were with family.\n",
    "6.) What was the effect of Age and Class on survival rate?\n",
    "Bonus: Can you plot the above results ?\n",
    "7.) What was the effect of Gender and Age on survival rate? \n",
    "8.) Did having a family member increase the odds of surviving the crash?\n",
    "\n",
    "Optional Challenge - You are an expert! \n",
    "9.) Fit a classification model which can predict whether a person survived or not. Try to maximize the accuracy.\n",
    "Hint: Possible features can be:  Age, Gender, Class, Fare, Sibling count and Parent count.\n",
    "\n",
    "Rules:\n",
    "1. The first 8 questions are considered for the challenge. The last one is optional.\n",
    "2. The team which comes with correct answers for all(or most) of the questions will be the winner.\n",
    "3. In case, multiple teams are able to complete the questions, the team which showed the results earliest will be the winner.\n"
   ]
  }
 ],
 "metadata": {
  "anaconda-cloud": {},
  "kernelspec": {
   "display_name": "Python [conda root]",
   "language": "python",
   "name": "conda-root-py"
  },
  "language_info": {
   "codemirror_mode": {
    "name": "ipython",
    "version": 2
   },
   "file_extension": ".py",
   "mimetype": "text/x-python",
   "name": "python",
   "nbconvert_exporter": "python",
   "pygments_lexer": "ipython2",
   "version": "2.7.12"
  }
 },
 "nbformat": 4,
 "nbformat_minor": 0
}
