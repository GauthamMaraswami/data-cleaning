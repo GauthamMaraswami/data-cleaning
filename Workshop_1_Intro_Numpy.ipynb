{
 "cells": [
  {
   "cell_type": "markdown",
   "metadata": {
    "collapsed": true
   },
   "source": [
    "## Getting Started & Introduction to Numpy ##\n",
    "This introduction will teach you to do:\n",
    "\n",
    "a) Learn to use the Jupyter Notebook and execute commands.\n",
    "\n",
    "b) Create a list in Python.\n",
    "\n",
    "c) Create an array using Numpy.\n",
    "\n",
    "d) Understand the difference between the PYTHON list and NUMPY array."
   ]
  },
  {
   "cell_type": "code",
   "execution_count": 1,
   "metadata": {
    "collapsed": false
   },
   "outputs": [
    {
     "name": "stdout",
     "output_type": "stream",
     "text": [
      "Hi there! Machine Learning is very easy!! This workshop will teach you that!\n"
     ]
    }
   ],
   "source": [
    "# Test whether you are able to print something\n",
    "print 'Hi there! Machine Learning is very easy!! This workshop will teach you that!'"
   ]
  },
  {
   "cell_type": "code",
   "execution_count": 3,
   "metadata": {
    "collapsed": true
   },
   "outputs": [],
   "source": [
    "# This is a list in PYTHON. List is similar to an array!\n",
    "List1 = [1,2,3]"
   ]
  },
  {
   "cell_type": "code",
   "execution_count": 5,
   "metadata": {
    "collapsed": false
   },
   "outputs": [
    {
     "name": "stdout",
     "output_type": "stream",
     "text": [
      "Elements in the list are:\n",
      "1\n",
      "2\n",
      "3\n"
     ]
    }
   ],
   "source": [
    "# A for loop to print the elements in a list.\n",
    "#\n",
    "# NOTE: For first time users, there should be an indent in the second line!\n",
    "# \n",
    "# TRY IT: Try removing the indent!\n",
    "#\n",
    "print 'Elements in the list are:';\n",
    "for element in List1:\n",
    "    print element;"
   ]
  },
  {
   "cell_type": "code",
   "execution_count": 7,
   "metadata": {
    "collapsed": false
   },
   "outputs": [
    {
     "name": "stdout",
     "output_type": "stream",
     "text": [
      "\n",
      "Numpy array:\n",
      "1\n",
      "2\n",
      "3\n",
      "4\n",
      "[1 2 3 4]\n"
     ]
    }
   ],
   "source": [
    "#Print another line - what is the change here ?\n",
    "#NOTICE that you can use \\n!\n",
    "print '\\nNumpy array:';\n",
    "\n",
    "#IMPORT statement for getting NUMPY in.\n",
    "import numpy as np;\n",
    "\n",
    "#This is how we can create a NUMPY ARRAY\n",
    "numpyArray = np.array([1,2,3,4]);\n",
    "\n",
    "#Print the elements of the array\n",
    "for element in numpyArray:\n",
    "    print element;\n",
    "    \n",
    "#Directly print the array\n",
    "print numpyArray;"
   ]
  },
  {
   "cell_type": "code",
   "execution_count": 19,
   "metadata": {
    "collapsed": false
   },
   "outputs": [
    {
     "name": "stdout",
     "output_type": "stream",
     "text": [
      "2\n",
      "4\n",
      "6\n",
      "8\n",
      "\n",
      " Output of List: \n",
      "1\n",
      "2\n",
      "3\n",
      "4\n",
      "5\n",
      "1\n",
      "2\n",
      "3\n",
      "4\n"
     ]
    },
    {
     "ename": "AttributeError",
     "evalue": "'numpy.ndarray' object has no attribute 'B'",
     "output_type": "error",
     "traceback": [
      "\u001b[0;31m---------------------------------------------------------------------------\u001b[0m",
      "\u001b[0;31mAttributeError\u001b[0m                            Traceback (most recent call last)",
      "\u001b[0;32m<ipython-input-19-dd8ece5390fc>\u001b[0m in \u001b[0;36m<module>\u001b[0;34m()\u001b[0m\n\u001b[1;32m     32\u001b[0m \u001b[0mD\u001b[0m\u001b[1;33m=\u001b[0m\u001b[0mnp\u001b[0m\u001b[1;33m.\u001b[0m\u001b[0msquare\u001b[0m\u001b[1;33m(\u001b[0m\u001b[0mA\u001b[0m\u001b[1;33m)\u001b[0m\u001b[1;33m\u001b[0m\u001b[0m\n\u001b[1;32m     33\u001b[0m \u001b[0mA\u001b[0m\u001b[1;33m=\u001b[0m\u001b[0mA\u001b[0m\u001b[1;33m*\u001b[0m\u001b[0mA\u001b[0m\u001b[1;33m\u001b[0m\u001b[0m\n\u001b[0;32m---> 34\u001b[0;31m \u001b[0mC\u001b[0m \u001b[1;33m=\u001b[0m \u001b[0mA\u001b[0m\u001b[1;33m.\u001b[0m\u001b[0mB\u001b[0m\u001b[1;33m\u001b[0m\u001b[0m\n\u001b[0m\u001b[1;32m     35\u001b[0m \u001b[1;32mfor\u001b[0m \u001b[0ml\u001b[0m \u001b[1;32min\u001b[0m \u001b[0mD\u001b[0m\u001b[1;33m:\u001b[0m\u001b[1;33m\u001b[0m\u001b[0m\n\u001b[1;32m     36\u001b[0m     \u001b[1;32mprint\u001b[0m \u001b[0ml\u001b[0m\u001b[1;33m\u001b[0m\u001b[0m\n",
      "\u001b[0;31mAttributeError\u001b[0m: 'numpy.ndarray' object has no attribute 'B'"
     ]
    }
   ],
   "source": [
    "# LET'S DO IT TOGETHER:  \n",
    "# a) Create 2 new numpy arrays and add them together. Print the result.\n",
    "# b) Create 2 python lists and add them together. Print the result.\n",
    "\n",
    "\n",
    "numpyArray2 = np.array([1,2,3,4]);\n",
    "numpyArray3 = np.array([1,2,3,4]);\n",
    "#numpyArray3.append(4);\n",
    "\n",
    "\n",
    "# This is how we can add the array\n",
    "numpyArray4 = numpyArray2 + numpyArray3;\n",
    "\n",
    "\n",
    "#print the array\n",
    "for element in numpyArray4:\n",
    "    print element;\n",
    "\n",
    "print '\\n Output of List: '\n",
    "List2 = [1,2,3,4]\n",
    "List3 = [1,2,3,4]\n",
    "List2.append(5)\n",
    "#Add the lists together\n",
    "List4 = List2 + List3\n",
    "\n",
    "#print the list\n",
    "for element in List4:\n",
    "    print element;\n",
    "A = np.array([[1,2,3],[4,5,6],[7,8,9]])\n",
    "B = np.array([[1,2,1],[4,4,1],[7,1,9]])\n",
    "B=A+B\n",
    "D=np.square(A)\n",
    "A=A*A\n",
    "C = A.B\n",
    "for l in D:\n",
    "    print l\n",
    "for l in B:\n",
    "    print l\n",
    "numpyArray5 = [[1,2,3],[4,5,6],[7,8,9]]\n",
    "numpyArray5[0][0]\n",
    "np."
   ]
  },
  {
   "cell_type": "markdown",
   "metadata": {},
   "source": []
  },
  {
   "cell_type": "markdown",
   "metadata": {},
   "source": [
    "## Check point ##\n",
    "\n",
    "Numpy Array can be thought of as a MATRIX. The array which we created just now is a row matrix. Numpy helps in doing all matrix operations. \n",
    "\n",
    "Sample of MATRIX ADDITION is what we saw just now!\n",
    "\n",
    "Try out creating an array like this: \n",
    "\n",
    "A = np.array([[1,2,3],[4,5,6],[7,8,9]]); \n",
    "\n",
    "This is printing a matrix of size 3 X 3.\n",
    "\n",
    "##Exercises for later ##\n",
    "\n",
    "Try out other MATRIX Operations - Subtraction, Dot Product, Multiplication! "
   ]
  }
 ],
 "metadata": {
  "anaconda-cloud": {},
  "kernelspec": {
   "display_name": "Python 3",
   "language": "python",
   "name": "python3"
  },
  "language_info": {
   "codemirror_mode": {
    "name": "ipython",
    "version": 3
   },
   "file_extension": ".py",
   "mimetype": "text/x-python",
   "name": "python",
   "nbconvert_exporter": "python",
   "pygments_lexer": "ipython3",
   "version": "3.6.0"
  }
 },
 "nbformat": 4,
 "nbformat_minor": 1
}
