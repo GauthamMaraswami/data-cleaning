{
 "cells": [
  {
   "cell_type": "markdown",
   "metadata": {
    "collapsed": true
   },
   "source": [
    "## Introduction to Matplotlib ##\n",
    "We will learn:\n",
    "\n",
    "    a) Use matplotlib to draw plots - lineplot, histograms, scatterplots"
   ]
  },
  {
   "cell_type": "code",
   "execution_count": 1,
   "metadata": {
    "collapsed": false
   },
   "outputs": [],
   "source": [
    "#Remember these will become the standard imports from now on!\n",
    "import numpy as np\n",
    "\n",
    "from pandas import Series,DataFrame\n",
    "import pandas as pd\n",
    "\n",
    "import matplotlib.pyplot as plt\n",
    "%matplotlib inline"
   ]
  },
  {
   "cell_type": "markdown",
   "metadata": {
    "collapsed": false
   },
   "source": [
    "### Scatter Plots ###\n",
    "\n",
    "Scatter plots are used to identify the spread of the data."
   ]
  },
  {
   "cell_type": "code",
   "execution_count": 4,
   "metadata": {
    "collapsed": false
   },
   "outputs": [
    {
     "name": "stdout",
     "output_type": "stream",
     "text": [
      "[[  35.75761893   67.59066954]\n",
      " [  28.81684742   60.85413282]\n",
      " [  99.95848131  196.90739698]\n",
      " [  66.80974831  125.31112852]\n",
      " [  58.21569264  115.78578459]\n",
      " [  53.82107634  110.76277271]\n",
      " [  81.29608217  157.98528569]\n",
      " [  80.64869706  159.61941373]\n",
      " [  78.25281369  149.00386554]\n",
      " [  16.86348369   31.46759088]\n",
      " [  90.79914756  184.18521966]\n",
      " [  53.31273701  103.22061016]\n",
      " [  71.61878902  143.27181836]\n",
      " [  18.41059178   46.73641801]\n",
      " [  57.12434676  107.1237942 ]\n",
      " [  81.13468392  168.30937401]\n",
      " [  82.01525542  166.82994267]\n",
      " [  36.92490825   70.50145559]\n",
      " [  44.58712604   96.86937025]\n",
      " [  26.66235446   50.37323584]\n",
      " [  74.06505712  145.51917071]\n",
      " [  17.74057673   46.55187461]\n",
      " [   6.81974382   13.24378631]\n",
      " [  26.31736009   62.5006665 ]\n",
      " [  82.80411905  159.91664958]\n",
      " [  39.44653696   77.98420415]\n",
      " [  76.72812059  147.26918314]\n",
      " [  42.21585614   83.6452954 ]\n",
      " [  94.35857584  191.95607269]\n",
      " [  42.14178513   91.73273416]\n",
      " [   3.21124861    8.25141677]\n",
      " [   6.8856734    16.09638942]\n",
      " [  13.87577216   33.35444214]\n",
      " [  63.29740364  131.50574553]\n",
      " [  60.49251936  128.69884306]\n",
      " [  79.60728523  160.3103805 ]\n",
      " [  83.44436306  160.60324574]\n",
      " [  54.89207011  104.40029316]\n",
      " [  62.04594417  126.96945605]\n",
      " [  66.65375794  124.51916761]\n",
      " [  61.31981316  125.21741443]\n",
      " [  47.31955299   98.71948438]\n",
      " [  81.1509876   166.43245548]\n",
      " [  91.02151367  179.23687261]\n",
      " [  16.84346201   33.77723374]\n",
      " [  76.50643657  161.37296513]\n",
      " [  71.86570468  138.575401  ]\n",
      " [   9.84808948   17.90332828]\n",
      " [  35.78971241   74.10859171]\n",
      " [  35.888692     74.82132297]\n",
      " [  90.82944871  179.24154705]\n",
      " [   7.26207284    6.43437238]\n",
      " [  35.35928817   78.08635679]\n",
      " [  79.07925376  154.59178976]\n",
      " [  21.55345833   50.0307539 ]\n",
      " [  79.47642778  165.44196619]\n",
      " [  48.76796664  110.89728797]\n",
      " [  54.79386201  114.69188511]\n",
      " [  87.50352552  186.74420631]\n",
      " [  38.94913047   70.69722298]\n",
      " [   9.39561282   19.17903005]\n",
      " [  11.12118682   27.02295992]\n",
      " [  46.13555826   87.29244922]\n",
      " [  85.69757358  167.92461412]\n",
      " [  50.1102964    96.02054844]\n",
      " [  11.07366673   24.94632465]\n",
      " [  22.22813085   54.00414588]\n",
      " [  67.5539548   133.16525443]\n",
      " [  12.78718566   28.00622322]\n",
      " [  46.96549084  100.60558947]\n",
      " [   4.84854065   13.8572726 ]\n",
      " [  40.53733193   82.59066294]\n",
      " [  26.33046127   50.23180391]\n",
      " [  38.88472635   79.48177242]\n",
      " [  93.83826653  191.32431784]\n",
      " [  60.08165997  120.49511544]\n",
      " [  50.11396522  111.35232289]\n",
      " [  17.71868528   44.93760649]\n",
      " [  85.07303114  172.13320308]\n",
      " [  41.32150973   84.889236  ]\n",
      " [  35.45154709   69.91899124]\n",
      " [  74.02102554  149.77864633]\n",
      " [  90.5197211   187.59390974]\n",
      " [  34.54059704   66.32685895]\n",
      " [  94.56166213  189.14496411]\n",
      " [  52.95626785  103.44683588]\n",
      " [  80.10643641  158.52943007]\n",
      " [  49.82275758   98.69883963]\n",
      " [  61.78172531  122.64739506]\n",
      " [  60.28610836  124.76334632]\n",
      " [  77.32069019  155.67749312]\n",
      " [  15.64635875   35.41060825]\n",
      " [  71.54061834  151.32345871]\n",
      " [  62.45239811  129.43395879]\n",
      " [  79.05983237  163.09690261]\n",
      " [  72.19769344  142.89852264]\n",
      " [  71.41775342  148.09420854]\n",
      " [  31.00882008   63.79687625]\n",
      " [  40.32528222   86.72368533]]\n"
     ]
    }
   ],
   "source": [
    "#Load the data using pandas\n",
    "Array = pd.read_csv(\"scatter_plot.csv\").as_matrix()\n",
    "\n",
    "## TRY IT\n",
    "print(Array)"
   ]
  },
  {
   "cell_type": "code",
   "execution_count": 13,
   "metadata": {
    "collapsed": false
   },
   "outputs": [
    {
     "ename": "NameError",
     "evalue": "name 'plt1' is not defined",
     "output_type": "error",
     "traceback": [
      "\u001b[0;31m---------------------------------------------------------------------------\u001b[0m",
      "\u001b[0;31mNameError\u001b[0m                                 Traceback (most recent call last)",
      "\u001b[0;32m<ipython-input-13-37befe4501e5>\u001b[0m in \u001b[0;36m<module>\u001b[0;34m()\u001b[0m\n\u001b[1;32m      3\u001b[0m \u001b[1;33m\u001b[0m\u001b[0m\n\u001b[1;32m      4\u001b[0m \u001b[0mplt\u001b[0m\u001b[1;33m.\u001b[0m\u001b[0mscatter\u001b[0m\u001b[1;33m(\u001b[0m\u001b[0mx\u001b[0m\u001b[1;33m,\u001b[0m\u001b[0my\u001b[0m\u001b[1;33m)\u001b[0m\u001b[1;33m\u001b[0m\u001b[0m\n\u001b[0;32m----> 5\u001b[0;31m \u001b[0mplt1\u001b[0m\u001b[1;33m.\u001b[0m\u001b[0mscatter\u001b[0m\u001b[1;33m(\u001b[0m\u001b[0mx\u001b[0m\u001b[1;33m,\u001b[0m\u001b[0my\u001b[0m\u001b[1;33m)\u001b[0m\u001b[1;33m\u001b[0m\u001b[0m\n\u001b[0m\u001b[1;32m      6\u001b[0m \u001b[1;31m## TRY IT - You can add title and other labels and then run the cell!!\u001b[0m\u001b[1;33m\u001b[0m\u001b[1;33m\u001b[0m\u001b[0m\n",
      "\u001b[0;31mNameError\u001b[0m: name 'plt1' is not defined"
     ]
    },
    {
     "data": {
      "image/png": "[encoded data removed]",
      "text/plain": [
       "<matplotlib.figure.Figure at 0xa21fd68>"
      ]
     },
     "metadata": {},
     "output_type": "display_data"
    }
   ],
   "source": [
    "x = Array[:,0]\n",
    "y = Array[:,1]\n",
    "\n",
    "plt.scatter(x,y)\n",
    "\n",
    "## TRY IT - You can add title and other labels and then run the cell!!\n"
   ]
  },
  {
   "cell_type": "code",
   "execution_count": 12,
   "metadata": {
    "collapsed": false
   },
   "outputs": [
    {
     "data": {
      "text/plain": [
       "(array([  8.,   6.,   9.,  12.,  10.,  10.,  11.,  12.,  12.,   9.]),\n",
       " array([   6.43437238,   25.48167484,   44.5289773 ,   63.57627976,\n",
       "          82.62358222,  101.67088468,  120.71818714,  139.7654896 ,\n",
       "         158.81279206,  177.86009452,  196.90739698]),\n",
       " <a list of 10 Patch objects>)"
      ]
     },
     "execution_count": 12,
     "metadata": {},
     "output_type": "execute_result"
    },
    {
     "data": {
      "image/png": "[encoded data removed]",
      "text/plain": [
       "<matplotlib.figure.Figure at 0xba075c0>"
      ]
     },
     "metadata": {},
     "output_type": "display_data"
    }
   ],
   "source": [
    "plt.hist(x)\n",
    "plt.hist(y)\n",
    "## TRY IT: plot the histogram on y"
   ]
  },
  {
   "cell_type": "code",
   "execution_count": 16,
   "metadata": {
    "collapsed": false
   },
   "outputs": [
    {
     "data": {
      "text/plain": [
       "(array([ 2.,  0.,  1.,  1.,  2.,  1.,  0.,  1.,  1.,  1.,  1.,  2.,  1.,\n",
       "         0.,  0.,  0.,  3.,  0.,  3.,  1.,  0.,  0.,  1.,  1.,  1.,  2.,\n",
       "         3.,  0.,  2.,  0.,  3.,  1.,  2.,  2.,  0.,  1.,  0.,  2.,  2.,\n",
       "         1.,  2.,  1.,  1.,  2.,  1.,  2.,  0.,  1.,  1.,  4.,  1.,  2.,\n",
       "         1.,  1.,  0.,  1.,  0.,  2.,  1.,  3.,  2.,  0.,  2.,  2.,  4.,\n",
       "         2.,  1.,  4.,  0.,  1.,  0.,  0.,  2.,  0.,  1.,  1.,  2.,  2.,\n",
       "         0.,  1.]),\n",
       " array([   6.43437238,    8.81528518,   11.19619799,   13.5771108 ,\n",
       "          15.95802361,   18.33893641,   20.71984922,   23.10076203,\n",
       "          25.48167484,   27.86258764,   30.24350045,   32.62441326,\n",
       "          35.00532607,   37.38623888,   39.76715168,   42.14806449,\n",
       "          44.5289773 ,   46.90989011,   49.29080291,   51.67171572,\n",
       "          54.05262853,   56.43354134,   58.81445414,   61.19536695,\n",
       "          63.57627976,   65.95719257,   68.33810537,   70.71901818,\n",
       "          73.09993099,   75.4808438 ,   77.8617566 ,   80.24266941,\n",
       "          82.62358222,   85.00449503,   87.38540783,   89.76632064,\n",
       "          92.14723345,   94.52814626,   96.90905906,   99.28997187,\n",
       "         101.67088468,  104.05179749,  106.43271029,  108.8136231 ,\n",
       "         111.19453591,  113.57544872,  115.95636152,  118.33727433,\n",
       "         120.71818714,  123.09909995,  125.48001275,  127.86092556,\n",
       "         130.24183837,  132.62275118,  135.00366398,  137.38457679,\n",
       "         139.7654896 ,  142.14640241,  144.52731521,  146.90822802,\n",
       "         149.28914083,  151.67005364,  154.05096645,  156.43187925,\n",
       "         158.81279206,  161.19370487,  163.57461768,  165.95553048,\n",
       "         168.33644329,  170.7173561 ,  173.09826891,  175.47918171,\n",
       "         177.86009452,  180.24100733,  182.62192014,  185.00283294,\n",
       "         187.38374575,  189.76465856,  192.14557137,  194.52648417,\n",
       "         196.90739698]),\n",
       " <a list of 80 Patch objects>)"
      ]
     },
     "execution_count": 16,
     "metadata": {},
     "output_type": "execute_result"
    },
    {
     "data": {
      "image/png": "[encoded data removed]",
      "text/plain": [
       "<matplotlib.figure.Figure at 0xca50278>"
      ]
     },
     "metadata": {},
     "output_type": "display_data"
    }
   ],
   "source": [
    "plt.hist(x, bins=80)\n",
    "plt.hist(y, bins=80)\n",
    "## TRY IT: Use random number generator from numpy: np.random.random(1000), check the histogram of this data. "
   ]
  },
  {
   "cell_type": "code",
   "execution_count": null,
   "metadata": {
    "collapsed": true
   },
   "outputs": [],
   "source": []
  },
  {
   "cell_type": "code",
   "execution_count": null,
   "metadata": {
    "collapsed": true
   },
   "outputs": [],
   "source": []
  },
  {
   "cell_type": "code",
   "execution_count": null,
   "metadata": {
    "collapsed": true
   },
   "outputs": [],
   "source": []
  }
 ],
 "metadata": {
  "anaconda-cloud": {},
  "kernelspec": {
   "display_name": "Python [conda root]",
   "language": "python",
   "name": "conda-root-py"
  },
  "language_info": {
   "codemirror_mode": {
    "name": "ipython",
    "version": 2
   },
   "file_extension": ".py",
   "mimetype": "text/x-python",
   "name": "python",
   "nbconvert_exporter": "python",
   "pygments_lexer": "ipython2",
   "version": "2.7.12"
  }
 },
 "nbformat": 4,
 "nbformat_minor": 1
}
